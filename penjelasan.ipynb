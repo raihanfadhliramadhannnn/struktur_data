{
 "cells": [
  {
   "cell_type": "code",
   "execution_count": null,
   "metadata": {},
   "outputs": [],
   "source": [
    "#include <iostream>\n",
    "#include <stack>\n",
    "#include <string>\n",
    "\n",
    "using namespace std;"
   ]
  },
  {
   "cell_type": "markdown",
   "metadata": {},
   "source": [
    "Library yang Digunakan:\n",
    "\n",
    "## iostream (#include <iostream> ):\n",
    "\n",
    "Library ini digunakan untuk input-output stream, seperti cin untuk input dari keyboard dan cout untuk output ke layar.\n",
    "\n",
    "## stack (#include <stack> ):\n",
    "\n",
    "Library ini menyediakan template class std::stack, yang merupakan tumpukan (stack) yang diimplementasikan dengan menggunakan konsep Last In First Out (LIFO). Tumpukan ini digunakan untuk menyimpan elemen-elemen dengan cara menambahkan elemen di atas (push) dan menghapus elemen dari atas (pop).\n",
    "\n",
    "## string (#include <string>):\n",
    "\n",
    "Library ini memberikan dukungan untuk memanipulasi string, seperti menyimpan, mengubah, dan membandingkan string.\n",
    "Penggunaan using namespace std;:\n",
    "using namespace std; digunakan untuk mempermudah penggunaan elemen-elemen dari namespace std tanpa harus menambahkan std:: sebelum setiap elemen tersebut. Namespace std merupakan namespace standar yang berisi banyak fungsi dan kelas yang sering digunakan dalam pemrograman C++.\n"
   ]
  },
  {
   "cell_type": "code",
   "execution_count": null,
   "metadata": {},
   "outputs": [],
   "source": [
    "class PengolahKata {\n",
    "private:\n",
    "    string teksSaatIni;\n",
    "    stack<string> tumpukanUndo;\n",
    "    stack<string> tumpukanRedo;\n",
    "\n",
    "public:\n",
    "    PengolahKata() {\n",
    "        teksSaatIni = \"\";"
   ]
  },
  {
   "cell_type": "markdown",
   "metadata": {},
   "source": [
    "### class PengolahKata { ... };\n",
    "\n",
    " Mendefinisikan sebuah class C++ bernama PengolahKata.\n",
    "\n",
    "### 2. Private Member Variables\n",
    "\n",
    "* string teksSaatIni;\n",
    "\n",
    "Variabel teksSaatIni bertipe string yang digunakan untuk menyimpan teks saat ini yang sedang diproses dalam pengolah kata.\n",
    "\n",
    "* stack<string> tumpukanUndo;\n",
    "\n",
    " Objek dari class template stack yang menyimpan string. Digunakan untuk menyimpan riwayat teks sebelumnya yang dapat di-\"undo\".\n",
    "\n",
    "* stack<string> tumpukanRedo;\n",
    "\n",
    " Objek stack yang sama, digunakan untuk menyimpan riwayat teks yang telah di-\"undo\" untuk keperluan \"redo\".\n",
    "\n",
    "### 3. Constructor PengolahKata()\n",
    "\n",
    "* PengolahKata() { ... }\n",
    "\n",
    " Ini adalah constructor dari class PengolahKata, yang dipanggil saat sebuah objek PengolahKata dibuat.\n",
    "\n",
    "* teksSaatIni = \"\";\n",
    "\n",
    " Pada constructor ini, teksSaatIni diinisialisasi dengan string kosong (\"\"). Ini memastikan bahwa saat objek PengolahKata dibuat, teksSaatIni sudah siap untuk digunakan."
   ]
  },
  {
   "cell_type": "code",
   "execution_count": null,
   "metadata": {},
   "outputs": [],
   "source": [
    "void ketik(const string& teks) {\n",
    "        tumpukanUndo.push(teksSaatIni);  // Simpan teks saat ini ke dalam tumpukanUndo\n",
    "        teksSaatIni += teks;             // Ketikkan teks baru ke dalam teksSaatIni\n",
    "        tumpukanRedo = stack<string>();  // Kosongkan tumpukanRedo setelah ada perubahan\n",
    "        cout << \"Teks ditambahkan: \" << teksSaatIni << endl;\n",
    "    }\n"
   ]
  },
  {
   "cell_type": "markdown",
   "metadata": {},
   "source": [
    "*Penjelasan Langkah demi Langkah:*\n",
    "\n",
    "* #### tumpukanUndo.push(teksSaatIni);\n",
    "\n",
    "Ini adalah operasi untuk menyimpan teks saat ini (teksSaatIni) ke dalam tumpukanUndo. Tujuannya adalah untuk menyimpan salinan teks saat ini sebelum adanya perubahan, agar nantinya dapat dilakukan operasi \"undo\" jika diperlukan.\n",
    "\n",
    "* #### teksSaatIni += teks;\n",
    "\n",
    "Baris ini menambahkan teks baru (teks) ke dalam teksSaatIni. Operasi += pada string digunakan untuk menggabungkan (concatenate) teks yang sudah ada (teksSaatIni) dengan teks baru yang diberikan (teks).\n",
    "\n",
    "* #### tumpukanRedo = stack<string>();\n",
    "\n",
    "Statement ini mengosongkan tumpukanRedo dengan cara menginisialisasinya kembali sebagai objek stack<string> baru yang kosong. Hal ini dilakukan setelah ada perubahan pada teks (teksSaatIni), karena operasi \"redo\" tidak lagi relevan setelah ada perubahan baru yang dilakukan oleh pengguna.\n",
    "\n",
    "* #### cout << \"Teks ditambahkan: \" << teksSaatIni << endl;\n",
    "\n",
    "Menampilkan pesan ke konsol bahwa teks baru telah ditambahkan ke teksSaatIni. Ini membantu dalam memberikan umpan balik kepada pengguna bahwa operasi \"ketik\" telah berhasil dilakukan dan menampilkan teks saat ini yang telah diperbarui.\n"
   ]
  },
  {
   "cell_type": "code",
   "execution_count": null,
   "metadata": {},
   "outputs": [],
   "source": [
    "void undo() {\n",
    "        if (!tumpukanUndo.empty()) {\n",
    "            tumpukanRedo.push(teksSaatIni);     // Simpan teks saat ini ke dalam tumpukanRedo\n",
    "            teksSaatIni = tumpukanUndo.top();  // Kembalikan teks sebelumnya dari tumpukanUndo\n",
    "            tumpukanUndo.pop();                 // Hapus teks yang digunakan dari tumpukanUndo\n",
    "            cout << \"Undo: \" << teksSaatIni << endl;\n",
    "        } else {\n",
    "            cout << \"Tidak ada yang bisa di-undo.\" << endl;\n",
    "        }\n",
    "    }"
   ]
  },
  {
   "cell_type": "markdown",
   "metadata": {},
   "source": [
    "* #### tumpukanRedo.push(teksSaatIni);\n",
    "\n",
    "Saat fungsi undo() dipanggil, teks saat ini (teksSaatIni) disimpan ke dalam tumpukanRedo. Hal ini dilakukan untuk mempertahankan riwayat teks saat ini sebelum operasi \"undo\" dilakukan, sehingga jika pengguna ingin melakukan operasi \"redo\", teks saat ini yang saat ini di-\"undo\" dapat dikembalikan ke teksSaatIni.\n",
    "\n",
    "* #### teksSaatIni = tumpukanUndo.top();\n",
    "\n",
    "Mengambil teks dari puncak (top()) tumpukanUndo dan mengassign-nya ke teksSaatIni. Ini adalah operasi untuk mengembalikan teks ke versi sebelumnya yang disimpan dalam tumpukanUndo.\n",
    "\n",
    "* #### tumpukanUndo.pop();\n",
    "\n",
    "Menghapus elemen dari puncak tumpukanUndo setelah teks sebelumnya telah diambil dan diassign ke teksSaatIni. Dengan menghapus teks yang telah digunakan, tumpukanUndo menjadi kosong jika tidak ada operasi \"undo\" lain yang tersisa.\n",
    "\n",
    "* #### cout << \"Undo: \" << teksSaatIni << endl;\n",
    "\n",
    "Menampilkan pesan ke konsol bahwa operasi \"undo\" telah berhasil dilakukan, beserta teks saat ini yang telah dikembalikan ke versi sebelumnya.\n",
    "\n",
    "* #### Else Statement (cout << \"Tidak ada yang bisa di-undo.\" << endl;):\n",
    "\n",
    "Jika tumpukanUndo kosong saat fungsi undo() dipanggil, maka output ini akan ditampilkan. Ini memberi tahu pengguna bahwa tidak ada operasi \"undo\" yang dapat dilakukan karena tidak ada riwayat teks sebelumnya yang tersimpan.\n"
   ]
  },
  {
   "cell_type": "code",
   "execution_count": null,
   "metadata": {},
   "outputs": [],
   "source": [
    " void redo() {\n",
    "        if (!tumpukanRedo.empty()) {\n",
    "            tumpukanUndo.push(teksSaatIni);     // Simpan teks saat ini ke dalam tumpukanUndo\n",
    "            teksSaatIni = tumpukanRedo.top();  // Ambil teks yang ada di tumpukanRedo\n",
    "            tumpukanRedo.pop();                 // Hapus teks yang digunakan dari tumpukanRedo\n",
    "            cout << \"Redo: \" << teksSaatIni << endl;\n",
    "        } else {\n",
    "            cout << \"Tidak ada yang bisa di-redo.\" << endl;\n",
    "        }\n",
    "    }"
   ]
  },
  {
   "cell_type": "markdown",
   "metadata": {},
   "source": [
    "* #### tumpukanUndo.push(teksSaatIni);\n",
    "\n",
    "Saat fungsi redo() dipanggil, teks saat ini (teksSaatIni) disimpan ke dalam tumpukanUndo. Hal ini dilakukan untuk mempertahankan riwayat teks saat ini sebelum operasi \"redo\" dilakukan, sehingga jika pengguna ingin melakukan operasi \"undo\" lagi setelah \"redo\", teks saat ini yang sekarang bisa dikembalikan ke tumpukanUndo.\n",
    "\n",
    "* #### teksSaatIni = tumpukanRedo.top();\n",
    "\n",
    "Mengambil teks dari puncak (top()) tumpukanRedo dan mengassign-nya ke teksSaatIni. Ini adalah operasi untuk mengembalikan teks ke versi setelah terjadi operasi \"undo\", yang disimpan dalam tumpukanRedo.\n",
    "\n",
    "* #### tumpukanRedo.pop();\n",
    "\n",
    "Menghapus elemen dari puncak tumpukanRedo setelah teks sebelumnya telah diambil dan diassign ke teksSaatIni. Dengan menghapus teks yang telah digunakan, tumpukanRedo menjadi kosong jika tidak ada operasi \"redo\" lain yang tersisa.\n",
    "\n",
    "* #### cout << \"Redo: \" << teksSaatIni << endl;\n",
    "\n",
    "Menampilkan pesan ke konsol bahwa operasi \"redo\" telah berhasil dilakukan, beserta teks saat ini yang telah diperbarui setelah operasi \"redo\".\n",
    "\n",
    "* #### Else Statement (cout << \"Tidak ada yang bisa di-redo.\" << endl;):\n",
    "\n",
    "Jika tumpukanRedo kosong saat fungsi redo() dipanggil, maka output ini akan ditampilkan. Ini memberi tahu pengguna bahwa tidak ada operasi \"redo\" yang dapat dilakukan karena tidak ada riwayat operasi \"undo\" sebelumnya yang tersimpan di tumpukanRedo."
   ]
  },
  {
   "cell_type": "markdown",
   "metadata": {},
   "source": [
    "### Implementasi Fungsi apakahTumpukanUndoKosong()"
   ]
  },
  {
   "cell_type": "code",
   "execution_count": null,
   "metadata": {},
   "outputs": [],
   "source": [
    "bool apakahTumpukanUndoKosong() const {\n",
    "        return tumpukanUndo.empty();\n",
    "    }"
   ]
  },
  {
   "cell_type": "markdown",
   "metadata": {},
   "source": [
    "* #### Deskripsi\n",
    "Fungsi ini mengembalikan nilai true jika tumpukanUndo kosong, dan false jika tidak kosong.\n",
    "\n",
    "* #### Return Type: bool.\n",
    "\n",
    "* #### Const Qualifier\n",
    " Memberitahukan bahwa fungsi ini tidak akan mengubah state dari objek yang memanggilnya (const member function)."
   ]
  },
  {
   "cell_type": "markdown",
   "metadata": {},
   "source": [
    "### Implementasi Fungsi apakahTumpukanRedoKosong()\n"
   ]
  },
  {
   "cell_type": "code",
   "execution_count": null,
   "metadata": {},
   "outputs": [],
   "source": [
    "bool apakahTumpukanRedoKosong() const {\n",
    "    return tumpukanRedo.empty();}"
   ]
  },
  {
   "cell_type": "markdown",
   "metadata": {},
   "source": [
    "* #### Deskripsi\n",
    " Fungsi ini mengembalikan nilai true jika tumpukanRedo kosong, dan false jika tidak kosong.\n",
    "\n",
    "* #### Return Type: bool.\n",
    "\n",
    "* ####  const Qualifier\n",
    " Sama seperti sebelumnya, memberitahukan bahwa fungsi ini tidak akan mengubah state dari objek yang memanggilnya."
   ]
  },
  {
   "cell_type": "code",
   "execution_count": null,
   "metadata": {},
   "outputs": [],
   "source": [
    "int main() {\n",
    "    PengolahKata editor;\n",
    "    string operasi, teks;\n",
    "\n",
    "    while (true) {\n",
    "\n",
    "        // Fungsi Menampilkan menu \n",
    "        cout << \"===== Menu Pengolah Kata =====\" << endl;\n",
    "        cout << \"1. Ketik teks baru\" << endl;\n",
    "        cout << \"2. Undo\" << endl;\n",
    "        cout << \"3. Redo\" << endl;\n",
    "        cout << \"4. Cek apakah Tumpukan Undo kosong\" << endl;\n",
    "        cout << \"5. Cek apakah Tumpukan Redo kosong\" << endl;\n",
    "        cout << \"6. Keluar\" << endl;\n",
    "        cout << \"==============================\" << endl;\n",
    "        cout << \"Masukkan pilihan (1-6): \";\n",
    "        \n",
    "        // Menerima input dari pengguna\n",
    "        \n",
    "        cin >> operasi;\n",
    "\n",
    "        // Pilihan berdasarkan input pengguna\n",
    "\n",
    "        if (operasi == \"1\") {\n",
    "            cout << \"Masukkan teks yang ingin ditambahkan: \";\n",
    "            cin.ignore(); // Membersihkan buffer input\n",
    "            getline(cin, teks);\n",
    "            editor.ketik(teks);\n",
    "        } else if (operasi == \"2\") {\n",
    "            editor.undo();\n",
    "        } else if (operasi == \"3\") {\n",
    "            editor.redo();\n",
    "        } else if (operasi == \"4\") {\n",
    "            if (editor.apakahTumpukanUndoKosong()) {\n",
    "                cout << \"Tumpukan Undo kosong.\" << endl;\n",
    "            } else {\n",
    "                cout << \"Tumpukan Undo tidak kosong.\" << endl;\n",
    "            }\n",
    "        } else if (operasi == \"5\") {\n",
    "            if (editor.apakahTumpukanRedoKosong()) {\n",
    "                cout << \"Tumpukan Redo kosong.\" << endl;\n",
    "            } else {\n",
    "                cout << \"Tumpukan Redo tidak kosong.\" << endl;\n",
    "            }\n",
    "        } else if (operasi == \"6\") {\n",
    "            cout << \"Keluar dari program.\" << endl;\n",
    "            break;\n",
    "        } else {\n",
    "            cout << \"Pilihan tidak valid. Silakan masukkan angka dari 1 sampai 6.\" << endl;\n",
    "        }\n",
    "\n",
    "        cout << endl;\n",
    "    }\n",
    "\n",
    "    return 0;\n",
    "}\n"
   ]
  },
  {
   "cell_type": "markdown",
   "metadata": {},
   "source": [
    "## penjelasan main\n",
    "\n",
    "* #### Deklarasi Objek PengolahKata\n",
    "\n",
    "PengolahKata editor;: Membuat objek editor dari class PengolahKata, yang akan digunakan untuk melakukan operasi pada teks.\n",
    "\n",
    "* #### Loop while (true)\n",
    "\n",
    "Program akan berjalan dalam loop tak terbatas (while (true)) untuk terus menampilkan menu dan menerima input dari pengguna sampai pengguna memilih untuk keluar (operasi == \"6\").\n",
    "\n",
    "* #### Menampilkan Menu\n",
    "\n",
    "Menggunakan cout untuk menampilkan menu pengolah kata. Menu ini mencakup pilihan untuk:\n",
    "Mengetik teks baru (1)\n",
    "Melakukan operasi \"undo\" (2)\n",
    "Melakukan operasi \"redo\" (3)\n",
    "Memeriksa apakah tumpukanUndo kosong (4)\n",
    "Memeriksa apakah tumpukanRedo kosong (5)\n",
    "Keluar dari program (6)\n",
    "\n",
    "* #### Meminta Input Pengguna\n",
    "\n",
    "cin >> operasi;: Meminta pengguna untuk memasukkan pilihan menu. Input ini disimpan dalam variabel operasi.\n",
    "Switch-Case untuk Menangani Operasi\n",
    "\n",
    "Penggunaan if-else if digunakan di sini untuk menangani setiap pilihan operasi berdasarkan nilai operasi yang dimasukkan pengguna.\n",
    "\n",
    "* #### Implementasi Setiap Kasus\n",
    "\n",
    "Setiap case atau else if dalam struktur percabangan menangani operasi yang sesuai sesuai dengan pilihan pengguna:\n",
    "Case 1: Meminta pengguna untuk memasukkan teks baru dan memanggil fungsi ketik(teks) dari objek editor.\n",
    "Case 2: Memanggil fungsi undo() dari objek editor.\n",
    "Case 3: Memanggil fungsi redo() dari objek editor.\n",
    "Case 4 dan 5: Memanggil fungsi apakahTumpukanUndoKosong() dan apakahTumpukanRedoKosong() untuk memeriksa apakah tumpukan undo atau redo kosong.\n",
    "Case 6: Mengakhiri program dengan break;.\n",
    "\n",
    "* #### Default Case\n",
    "\n",
    "Jika pengguna memasukkan pilihan yang tidak valid (misalnya bukan angka dari 1 sampai 6), program akan mencetak pesan kesalahan.\n",
    "\n",
    "* #### Akhir Program\n",
    "\n",
    "Setelah keluar dari loop while, program mengembalikan nilai 0, menandakan bahwa program berakhir dengan sukses.\n",
    "\n",
    "### Kesimpulan:\n",
    "Program ini memberikan pengguna akses untuk melakukan operasi dasar pada pengolah kata (mengetik, undo, redo, dan memeriksa status tumpukan undo/redo) melalui menu yang ditampilkan secara berulang. Dengan menggunakan objek PengolahKata dan struktur kontrol yang tepat, program memberikan pengalaman pengguna yang interaktif dalam mengelola perubahan teks dalam aplikasi pengolah kata sederhana."
   ]
  }
 ],
 "metadata": {
  "language_info": {
   "name": "python"
  }
 },
 "nbformat": 4,
 "nbformat_minor": 2
}
